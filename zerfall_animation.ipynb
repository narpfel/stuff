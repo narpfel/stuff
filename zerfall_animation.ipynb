{
 "cells": [
  {
   "cell_type": "code",
   "execution_count": 1,
   "metadata": {
    "collapsed": false
   },
   "outputs": [],
   "source": [
    "import math\n",
    "import random\n",
    "\n",
    "import matplotlib.pyplot as plt\n",
    "from matplotlib import animation\n",
    "\n",
    "import numpy as np\n",
    "\n",
    "import jim"
   ]
  },
  {
   "cell_type": "code",
   "execution_count": 2,
   "metadata": {
    "collapsed": true
   },
   "outputs": [],
   "source": [
    "number_of_bodies = 100"
   ]
  },
  {
   "cell_type": "code",
   "execution_count": 3,
   "metadata": {
    "collapsed": false
   },
   "outputs": [],
   "source": [
    "bodies = [\n",
    "    jim.RadioactiveBody(math.log(2) / 10, jim.random_vector(4, 2), jim.random_vector(1, 2), None, 1)\n",
    "    for _ in range(number_of_bodies)\n",
    "]"
   ]
  },
  {
   "cell_type": "code",
   "execution_count": 4,
   "metadata": {
    "collapsed": false
   },
   "outputs": [],
   "source": [
    "class Universe(jim.BoxMixin, jim.RadioactivityMixin, jim.Universe):\n",
    "    pass"
   ]
  },
  {
   "cell_type": "code",
   "execution_count": 5,
   "metadata": {
    "collapsed": false
   },
   "outputs": [],
   "source": [
    "universe = Universe(size=5, gravity=jim.Vector(0, 0))\n",
    "for body in bodies:\n",
    "    universe.add(body)"
   ]
  },
  {
   "cell_type": "code",
   "execution_count": 6,
   "metadata": {
    "collapsed": false
   },
   "outputs": [],
   "source": [
    "for body in universe:\n",
    "    body.add_force(lambda body: jim.friction(body) / 10)"
   ]
  },
  {
   "cell_type": "markdown",
   "metadata": {},
   "source": [
    "----"
   ]
  },
  {
   "cell_type": "code",
   "execution_count": 7,
   "metadata": {
    "collapsed": true
   },
   "outputs": [],
   "source": [
    "dt = 1. / 30 # 30fps\n",
    "frames = 60 * 30"
   ]
  },
  {
   "cell_type": "code",
   "execution_count": 8,
   "metadata": {
    "collapsed": false
   },
   "outputs": [
    {
     "data": {
      "text/plain": [
       "(-6, 6)"
      ]
     },
     "execution_count": 8,
     "metadata": {},
     "output_type": "execute_result"
    }
   ],
   "source": [
    "# set up figure and animation\n",
    "fig = plt.figure()\n",
    "fig.subplots_adjust(left=0, right=1, bottom=0, top=1)\n",
    "ax = fig.add_subplot(\n",
    "    111,\n",
    "    aspect='equal',\n",
    "    autoscale_on=False,\n",
    ")\n",
    "plt.axis(\"off\")\n",
    "ax.set_xlim(-6, 6)\n",
    "ax.set_ylim(-6, 6)"
   ]
  },
  {
   "cell_type": "code",
   "execution_count": 9,
   "metadata": {
    "collapsed": false
   },
   "outputs": [
    {
     "data": {
      "text/plain": [
       "<matplotlib.patches.Rectangle at 0x7f97a00975f8>"
      ]
     },
     "execution_count": 9,
     "metadata": {},
     "output_type": "execute_result"
    }
   ],
   "source": [
    "particles = ax.scatter([], [])\n",
    "particles.set_offset_position(\"data\")\n",
    "\n",
    "box = plt.Rectangle(\n",
    "    (-universe.size, -universe.size),\n",
    "    universe.size * 2,\n",
    "    universe.size * 2,\n",
    "    ec='none',\n",
    "    lw=2,\n",
    "    fc='none'\n",
    ")\n",
    "ax.add_patch(box)"
   ]
  },
  {
   "cell_type": "code",
   "execution_count": 10,
   "metadata": {
    "collapsed": false
   },
   "outputs": [],
   "source": [
    "def init():\n",
    "    \"\"\"initialize animation\"\"\"\n",
    "    particles.set_offsets(np.array([[], []]))\n",
    "    box.set_edgecolor('none')\n",
    "    return particles, box"
   ]
  },
  {
   "cell_type": "code",
   "execution_count": 11,
   "metadata": {
    "collapsed": true
   },
   "outputs": [],
   "source": [
    "def animate(i):\n",
    "    \"\"\"perform animation step\"\"\"\n",
    "    jim.exhaust(universe.simulate(dt, 0.005))\n",
    "\n",
    "    particles.set_offsets([list(body.r) for body in universe])\n",
    "    box.set_edgecolor('k')\n",
    "    return particles, box"
   ]
  },
  {
   "cell_type": "code",
   "execution_count": 12,
   "metadata": {
    "collapsed": false
   },
   "outputs": [],
   "source": [
    "ani = animation.FuncAnimation(\n",
    "    fig,\n",
    "    animate,\n",
    "    frames=frames,\n",
    "    interval=10,\n",
    "    blit=True,\n",
    "    init_func=init\n",
    ")"
   ]
  },
  {
   "cell_type": "code",
   "execution_count": 13,
   "metadata": {
    "collapsed": false,
    "scrolled": true
   },
   "outputs": [],
   "source": [
    "# save the animation as an mp4.\n",
    "ani.save('decay.mp4', fps=30, extra_args=['-vcodec', 'libx264'], dpi=160)"
   ]
  },
  {
   "cell_type": "code",
   "execution_count": 14,
   "metadata": {
    "collapsed": false,
    "scrolled": false
   },
   "outputs": [],
   "source": [
    "# Uncomment to see a live and interactive view of the system.\n",
    "plt.show()"
   ]
  }
 ],
 "metadata": {
  "kernelspec": {
   "display_name": "Python 3",
   "language": "python",
   "name": "python3"
  },
  "language_info": {
   "codemirror_mode": {
    "name": "ipython",
    "version": 3
   },
   "file_extension": ".py",
   "mimetype": "text/x-python",
   "name": "python",
   "nbconvert_exporter": "python",
   "pygments_lexer": "ipython3",
   "version": "3.4.3"
  }
 },
 "nbformat": 4,
 "nbformat_minor": 0
}
