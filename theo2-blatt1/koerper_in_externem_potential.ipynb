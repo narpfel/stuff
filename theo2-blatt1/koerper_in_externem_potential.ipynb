{
 "cells": [
  {
   "cell_type": "code",
   "execution_count": 1,
   "metadata": {
    "collapsed": false
   },
   "outputs": [
    {
     "name": "stdout",
     "output_type": "stream",
     "text": [
      "Vector(-5.0) Vector(2.5)\n",
      "Vector(-10.0) Vector(5.0)\n",
      "[(1, 3), (2, 4)]\n"
     ]
    }
   ],
   "source": [
    "import random\n",
    "random.seed(8)\n",
    "\n",
    "import matplotlib.pyplot as plt\n",
    "from matplotlib import animation\n",
    "from mpl_toolkits.mplot3d import Axes3D\n",
    "\n",
    "from jim import Vector, Body, Universe, transpose_states, implement_universal_force, coulomb_force"
   ]
  },
  {
   "cell_type": "code",
   "execution_count": 2,
   "metadata": {
    "collapsed": true
   },
   "outputs": [],
   "source": [
    "number_of_bodies = 5"
   ]
  },
  {
   "cell_type": "code",
   "execution_count": 3,
   "metadata": {
    "collapsed": true
   },
   "outputs": [],
   "source": [
    "def kinetic_energy(states):\n",
    "    energy = 0\n",
    "    for state in states:\n",
    "        energy += 0.5 * state.m * state.v.norm ** 2\n",
    "    return energy"
   ]
  },
  {
   "cell_type": "code",
   "execution_count": 4,
   "metadata": {
    "collapsed": true
   },
   "outputs": [],
   "source": [
    "def random_vector(a):\n",
    "    return Vector(*[random.uniform(-a, a) for _ in range(3)])"
   ]
  },
  {
   "cell_type": "code",
   "execution_count": 5,
   "metadata": {
    "collapsed": false
   },
   "outputs": [],
   "source": [
    "bodies = [\n",
    "    Body(random_vector(5), random_vector(2), None, 1)\n",
    "    for _ in range(number_of_bodies)\n",
    "]\n",
    "\n",
    "for body in bodies:\n",
    "    body.q = 0.0002"
   ]
  },
  {
   "cell_type": "code",
   "execution_count": 6,
   "metadata": {
    "collapsed": false
   },
   "outputs": [],
   "source": [
    "universe = Universe(Vector(0, 0, 0))\n",
    "for body in bodies:\n",
    "    universe.add(body)\n",
    "implement_universal_force(universe, coulomb_force)"
   ]
  },
  {
   "cell_type": "markdown",
   "metadata": {},
   "source": [
    "`background_force` ist die Kraft, die durch das Potential \n",
    "$$ U(\\vec r) = \\frac{1}{2}m\\omega^2r^2 $$\n",
    "hervorgerufen wird:\n",
    "$$ \\vec{F_b}(\\vec r) = - \\nabla U(\\vec r) = -m \\omega^2 \\vec r $$\n",
    "Der genaue Wert von $\\omega$ ist nur ein Skalierungsfaktor und hier nicht von Interesse."
   ]
  },
  {
   "cell_type": "code",
   "execution_count": 7,
   "metadata": {
    "collapsed": true
   },
   "outputs": [],
   "source": [
    "ω = 1\n",
    "def potential(body):\n",
    "    return 0.5 * body.m * ω ** 2 * body.r.norm ** 2"
   ]
  },
  {
   "cell_type": "code",
   "execution_count": 8,
   "metadata": {
    "collapsed": true
   },
   "outputs": [],
   "source": [
    "def background_force(body):\n",
    "    return -body.m * ω ** 2 * body.r"
   ]
  },
  {
   "cell_type": "markdown",
   "metadata": {},
   "source": [
    "Die Reibungskraft ist ein wenig willkürlich, hat sich aber in einer Billardsimulation (wo sie als Rollreibung verwendet wird) als recht realistisch wirkend herausgestellt. Der Optik wegen wird sie unten noch mit ½ skaliert."
   ]
  },
  {
   "cell_type": "code",
   "execution_count": 9,
   "metadata": {
    "collapsed": true
   },
   "outputs": [],
   "source": [
    "def friction(body):\n",
    "    speed = body.v.norm\n",
    "    if speed < 0.7:\n",
    "        return -body.v / 0.7\n",
    "    elif speed < 1:\n",
    "        return -body.v.unit\n",
    "    else:\n",
    "        return -body.v"
   ]
  },
  {
   "cell_type": "code",
   "execution_count": 10,
   "metadata": {
    "collapsed": false
   },
   "outputs": [],
   "source": [
    "for body in universe.objects:\n",
    "    body.add_force(background_force)\n",
    "    body.add_force(lambda body: friction(body) / 2)"
   ]
  },
  {
   "cell_type": "markdown",
   "metadata": {},
   "source": [
    "----"
   ]
  },
  {
   "cell_type": "code",
   "execution_count": 11,
   "metadata": {
    "collapsed": true
   },
   "outputs": [],
   "source": [
    "dt = 1. / 30 # 30fps\n",
    "frames = 900"
   ]
  },
  {
   "cell_type": "code",
   "execution_count": 12,
   "metadata": {
    "collapsed": false
   },
   "outputs": [
    {
     "data": {
      "text/plain": [
       "(-7, 7)"
      ]
     },
     "execution_count": 12,
     "metadata": {},
     "output_type": "execute_result"
    }
   ],
   "source": [
    "# set up figure and animation\n",
    "fig = plt.figure()\n",
    "fig.subplots_adjust(left=0, right=1, bottom=0, top=1)\n",
    "ax = fig.add_subplot(\n",
    "    111,\n",
    "    aspect='equal',\n",
    "    autoscale_on=False,\n",
    "    projection=\"3d\",\n",
    ")\n",
    "ax.grid()\n",
    "ax.set_xlim3d(-7, 7)\n",
    "ax.set_ylim3d(-7, 7)\n",
    "ax.set_zlim3d(-7, 7)"
   ]
  },
  {
   "cell_type": "markdown",
   "metadata": {},
   "source": [
    "Ein roter Punkt im Ursrung zur Orientierung:"
   ]
  },
  {
   "cell_type": "code",
   "execution_count": 13,
   "metadata": {
    "collapsed": false
   },
   "outputs": [],
   "source": [
    "ax.scatter([0], [0], c=\"red\");"
   ]
  },
  {
   "cell_type": "code",
   "execution_count": 14,
   "metadata": {
    "collapsed": true
   },
   "outputs": [],
   "source": [
    "# particles holds the locations of the particles\n",
    "particles, = ax.plot([], [], 'bo', ms=20)"
   ]
  },
  {
   "cell_type": "code",
   "execution_count": 15,
   "metadata": {
    "collapsed": true
   },
   "outputs": [],
   "source": [
    "def init():\n",
    "    \"\"\"initialize animation\"\"\"\n",
    "    particles.set_data([], [])\n",
    "    particles.set_3d_properties([])\n",
    "    return particles,"
   ]
  },
  {
   "cell_type": "code",
   "execution_count": 16,
   "metadata": {
    "collapsed": true
   },
   "outputs": [],
   "source": [
    "def exhaust(iterator):\n",
    "    for _ in iterator:\n",
    "        pass"
   ]
  },
  {
   "cell_type": "code",
   "execution_count": 17,
   "metadata": {
    "collapsed": true
   },
   "outputs": [],
   "source": [
    "def animate(i):\n",
    "    \"\"\"perform animation step\"\"\"\n",
    "    exhaust(universe.simulate(dt, 0.005))\n",
    "    states = universe.state()\n",
    "\n",
    "    transposed = transpose_states(states)\n",
    "    particles.set_data(*transposed[:2])\n",
    "    particles.set_3d_properties(transposed[2])\n",
    "    ax.view_init(i * 360 / 900 - 90, i)\n",
    "    return particles,"
   ]
  },
  {
   "cell_type": "code",
   "execution_count": 18,
   "metadata": {
    "collapsed": true
   },
   "outputs": [],
   "source": [
    "ani = animation.FuncAnimation(\n",
    "    fig,\n",
    "    animate,\n",
    "    frames=frames,\n",
    "    interval=10,\n",
    "    blit=True,\n",
    "    init_func=init\n",
    ")"
   ]
  },
  {
   "cell_type": "code",
   "execution_count": 19,
   "metadata": {
    "collapsed": false,
    "scrolled": true
   },
   "outputs": [],
   "source": [
    "# save the animation as an mp4.\n",
    "ani.save('{}_body_3d_animation.mp4'.format(number_of_bodies), fps=30, extra_args=['-vcodec', 'libx264'])"
   ]
  },
  {
   "cell_type": "code",
   "execution_count": 20,
   "metadata": {
    "collapsed": false
   },
   "outputs": [
    {
     "data": {
      "text/plain": [
       "(-7.0, 7.0, -7.0, 7.0)"
      ]
     },
     "execution_count": 20,
     "metadata": {},
     "output_type": "execute_result"
    }
   ],
   "source": [
    "# Turn off axes because they flicker.\n",
    "plt.axis(\"off\")\n",
    "# Uncomment to see a live and interactive view of the system.\n",
    "#plt.show()"
   ]
  },
  {
   "cell_type": "code",
   "execution_count": 21,
   "metadata": {
    "collapsed": false
   },
   "outputs": [
    {
     "name": "stdout",
     "output_type": "stream",
     "text": [
      "Universe(time=26.999999999998913, objects=[BodyState(r=Vector(-2.251578040779315, 6.711909523779487, -2.990735488985451), v=Vector(-0.0009439082877340572, 0.00259613215031427, -0.0015859046093530018), a=Vector(0.0008622984186741382, -0.004475354359809012, 0.0025808857443740205), m=1), BodyState(r=Vector(6.494443743412582, 0.20741975853468717, -4.400496105459135), v=Vector(-0.002296096161745937, 0.006764195895146839, -0.0034092049683208665), a=Vector(-0.0005400567478470052, -0.0037429345459582767, 0.00257690181619533), m=1), BodyState(r=Vector(-2.0710188076000158, -6.5872624695977375, -3.37532837185105), v=Vector(0.005692100035242434, -0.0066267700197925545, 0.007096054375399577), a=Vector(-0.0022522205730200577, 0.005652530967120948, -0.0020110965582340783), m=1), BodyState(r=Vector(4.317118765857014, -0.10608172975418122, 6.356990522097974), v=Vector(0.0008219685798570731, -0.011540231399374991, 0.0011989028050460484), a=Vector(-0.0022359634674040626, 0.005541428200363267, -0.0015077797955303312), m=1), BodyState(r=Vector(-6.490287842144936, -0.22437632964854015, 4.408315505326399), v=Vector(-0.002686153560275751, 0.007067896186549283, -0.002364771228195157), a=Vector(0.005068187477594632, -0.003342439870319799, -0.0010528840316684012), m=1)])\n"
     ]
    }
   ],
   "source": [
    "print(universe)"
   ]
  },
  {
   "cell_type": "code",
   "execution_count": 22,
   "metadata": {
    "collapsed": false
   },
   "outputs": [
    {
     "name": "stdout",
     "output_type": "stream",
     "text": [
      "0 1 10.9903916741622\n",
      "0 2 13.305956900263368\n",
      "0 3 13.304614389341074\n",
      "0 4 10.992027921957163\n",
      "1 2 10.981157688337282\n",
      "1 3 10.980097712821902\n",
      "1 4 15.69665136916328\n",
      "2 3 13.324114848403616\n",
      "2 4 10.981865544449503\n",
      "3 4 10.98232058920327\n"
     ]
    }
   ],
   "source": [
    "for i in range(number_of_bodies):\n",
    "    for j in range(i + 1, number_of_bodies):\n",
    "        print(i, j, (universe.objects[i].r - universe.objects[j].r).norm)"
   ]
  },
  {
   "cell_type": "code",
   "execution_count": 23,
   "metadata": {
    "collapsed": false
   },
   "outputs": [
    {
     "name": "stdout",
     "output_type": "stream",
     "text": [
      "7.685299727024213\n",
      "7.847623109371551\n",
      "7.685960406001747\n",
      "7.6850566861894976\n",
      "7.849039852472535\n"
     ]
    }
   ],
   "source": [
    "for body in universe.objects:\n",
    "    print(body.r.norm)"
   ]
  },
  {
   "cell_type": "code",
   "execution_count": 24,
   "metadata": {
    "collapsed": false
   },
   "outputs": [
    {
     "data": {
      "text/plain": [
       "Vector(-0.0013221812546708733, 0.0016087533137151833, -0.001253938871262683)"
      ]
     },
     "execution_count": 24,
     "metadata": {},
     "output_type": "execute_result"
    }
   ],
   "source": [
    "sum((body.r for body in universe.objects), Vector.null_vector(3))"
   ]
  }
 ],
 "metadata": {
  "kernelspec": {
   "display_name": "Python 3",
   "language": "python",
   "name": "python3"
  },
  "language_info": {
   "codemirror_mode": {
    "name": "ipython",
    "version": 3
   },
   "file_extension": ".py",
   "mimetype": "text/x-python",
   "name": "python",
   "nbconvert_exporter": "python",
   "pygments_lexer": "ipython3",
   "version": "3.4.3"
  }
 },
 "nbformat": 4,
 "nbformat_minor": 0
}
