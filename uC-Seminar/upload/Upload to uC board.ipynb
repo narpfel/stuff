{
 "metadata": {
  "name": "",
  "signature": "sha256:9a8094758894ef9e2c2f44096c98a168d9bfcf12055b62b4a55db61793f40fea"
 },
 "nbformat": 3,
 "nbformat_minor": 0,
 "worksheets": [
  {
   "cells": [
    {
     "cell_type": "code",
     "collapsed": false,
     "input": [
      "import serial\n",
      "from time import sleep\n",
      "from collections import namedtuple\n",
      "from contextlib import closing\n",
      "import subprocess\n",
      "from os import path"
     ],
     "language": "python",
     "metadata": {},
     "outputs": [],
     "prompt_number": 1
    },
    {
     "cell_type": "code",
     "collapsed": false,
     "input": [
      "SleepTimes = namedtuple(\"SleepTime\", \"line, byte\")"
     ],
     "language": "python",
     "metadata": {},
     "outputs": [],
     "prompt_number": 2
    },
    {
     "cell_type": "code",
     "collapsed": false,
     "input": [
      "def write_byte(byte, connection, sleep_time=0):\n",
      "    connection.write([byte])\n",
      "    sleep(sleep_time)"
     ],
     "language": "python",
     "metadata": {},
     "outputs": [],
     "prompt_number": 3
    },
    {
     "cell_type": "code",
     "collapsed": false,
     "input": [
      "def write_bytes(line, connection, sleep_times):\n",
      "    for byte in line:\n",
      "        write_byte(byte, connection, sleep_times.byte)\n",
      "    sleep(sleep_times.line)"
     ],
     "language": "python",
     "metadata": {},
     "outputs": [],
     "prompt_number": 4
    },
    {
     "cell_type": "code",
     "collapsed": false,
     "input": [
      "def upload_program(filename, connection, sleep_times):\n",
      "    with open(filename, \"rb\") as program:\n",
      "        write_bytes([13, 10], connection, SleepTimes(1, 0))\n",
      "        for line in program:\n",
      "            write_bytes(line, connection, sleep_times)\n",
      "            print(\".\", end=\"\")\n",
      "    print()"
     ],
     "language": "python",
     "metadata": {},
     "outputs": [],
     "prompt_number": 5
    },
    {
     "cell_type": "code",
     "collapsed": false,
     "input": [
      "def assemble(filename, assembler=\"/home/paul/Downloads/asem51/asem\"):\n",
      "    directory = path.dirname(filename)\n",
      "    hex_name = path.splitext(filename)[0] + \".hex\"\n",
      "    try:\n",
      "        print(\n",
      "            subprocess.check_output(\n",
      "                [\n",
      "                    assembler,\n",
      "                    \"--columns\",\n",
      "                    filename,\n",
      "                    \"-i\", \":\".join([\n",
      "                        directory,\n",
      "                        path.join(path.dirname(assembler),\"mcu\"),\n",
      "                        \"/home/paul/asem51/MC-51/A51Includes\",\n",
      "                    ]),\n",
      "                    hex_name\n",
      "                ],\n",
      "                universal_newlines=True,\n",
      "                stderr=subprocess.STDOUT,\n",
      "            )\n",
      "        )\n",
      "    except subprocess.CalledProcessError as error:\n",
      "        print(error.output)\n",
      "        raise error\n",
      "    return hex_name"
     ],
     "language": "python",
     "metadata": {},
     "outputs": [],
     "prompt_number": 6
    },
    {
     "cell_type": "code",
     "collapsed": false,
     "input": [
      "def greet_mcu(connection):\n",
      "    write_bytes([13, 10], connection, SleepTimes(1, 0))"
     ],
     "language": "python",
     "metadata": {},
     "outputs": [],
     "prompt_number": 7
    },
    {
     "cell_type": "code",
     "collapsed": false,
     "input": [
      "def assemble_and_upload(filename, port=\"/dev/ttyS0\", baudrate=9600, sleep_times=SleepTimes(0.050, 0)):\n",
      "    hex_name = assemble(filename)\n",
      "    with closing(serial.Serial(port, baudrate)) as connection:\n",
      "        greet_mcu(connection)\n",
      "        upload_program(hex_name, connection, sleep_times)"
     ],
     "language": "python",
     "metadata": {},
     "outputs": [],
     "prompt_number": 8
    },
    {
     "cell_type": "code",
     "collapsed": false,
     "input": [
      "assemble_and_upload(\"/home/paul/asem51/own_programs/photo_encoder.a51\")"
     ],
     "language": "python",
     "metadata": {},
     "outputs": [
      {
       "output_type": "stream",
       "stream": "stdout",
       "text": [
        "\n",
        "."
       ]
      },
      {
       "output_type": "stream",
       "stream": "stdout",
       "text": [
        "."
       ]
      },
      {
       "output_type": "stream",
       "stream": "stdout",
       "text": [
        "."
       ]
      },
      {
       "output_type": "stream",
       "stream": "stdout",
       "text": [
        "."
       ]
      },
      {
       "output_type": "stream",
       "stream": "stdout",
       "text": [
        "."
       ]
      },
      {
       "output_type": "stream",
       "stream": "stdout",
       "text": [
        "."
       ]
      },
      {
       "output_type": "stream",
       "stream": "stdout",
       "text": [
        "."
       ]
      },
      {
       "output_type": "stream",
       "stream": "stdout",
       "text": [
        "."
       ]
      },
      {
       "output_type": "stream",
       "stream": "stdout",
       "text": [
        "."
       ]
      },
      {
       "output_type": "stream",
       "stream": "stdout",
       "text": [
        "."
       ]
      },
      {
       "output_type": "stream",
       "stream": "stdout",
       "text": [
        "."
       ]
      },
      {
       "output_type": "stream",
       "stream": "stdout",
       "text": [
        "."
       ]
      },
      {
       "output_type": "stream",
       "stream": "stdout",
       "text": [
        "."
       ]
      },
      {
       "output_type": "stream",
       "stream": "stdout",
       "text": [
        "."
       ]
      },
      {
       "output_type": "stream",
       "stream": "stdout",
       "text": [
        "."
       ]
      },
      {
       "output_type": "stream",
       "stream": "stdout",
       "text": [
        "."
       ]
      },
      {
       "output_type": "stream",
       "stream": "stdout",
       "text": [
        "."
       ]
      },
      {
       "output_type": "stream",
       "stream": "stdout",
       "text": [
        "."
       ]
      },
      {
       "output_type": "stream",
       "stream": "stdout",
       "text": [
        "."
       ]
      },
      {
       "output_type": "stream",
       "stream": "stdout",
       "text": [
        "."
       ]
      },
      {
       "output_type": "stream",
       "stream": "stdout",
       "text": [
        "."
       ]
      },
      {
       "output_type": "stream",
       "stream": "stdout",
       "text": [
        "."
       ]
      },
      {
       "output_type": "stream",
       "stream": "stdout",
       "text": [
        "."
       ]
      },
      {
       "output_type": "stream",
       "stream": "stdout",
       "text": [
        "."
       ]
      },
      {
       "output_type": "stream",
       "stream": "stdout",
       "text": [
        "."
       ]
      },
      {
       "output_type": "stream",
       "stream": "stdout",
       "text": [
        "."
       ]
      },
      {
       "output_type": "stream",
       "stream": "stdout",
       "text": [
        "."
       ]
      },
      {
       "output_type": "stream",
       "stream": "stdout",
       "text": [
        "."
       ]
      },
      {
       "output_type": "stream",
       "stream": "stdout",
       "text": [
        "."
       ]
      },
      {
       "output_type": "stream",
       "stream": "stdout",
       "text": [
        "."
       ]
      },
      {
       "output_type": "stream",
       "stream": "stdout",
       "text": [
        "."
       ]
      },
      {
       "output_type": "stream",
       "stream": "stdout",
       "text": [
        "."
       ]
      },
      {
       "output_type": "stream",
       "stream": "stdout",
       "text": [
        "."
       ]
      },
      {
       "output_type": "stream",
       "stream": "stdout",
       "text": [
        "."
       ]
      },
      {
       "output_type": "stream",
       "stream": "stdout",
       "text": [
        "."
       ]
      },
      {
       "output_type": "stream",
       "stream": "stdout",
       "text": [
        "."
       ]
      },
      {
       "output_type": "stream",
       "stream": "stdout",
       "text": [
        "."
       ]
      },
      {
       "output_type": "stream",
       "stream": "stdout",
       "text": [
        "."
       ]
      },
      {
       "output_type": "stream",
       "stream": "stdout",
       "text": [
        "\n"
       ]
      }
     ],
     "prompt_number": 9
    },
    {
     "cell_type": "code",
     "collapsed": false,
     "input": [
      "assemble(\"/home/paul/asem51/own_programs/photo_encoder.a51\")"
     ],
     "language": "python",
     "metadata": {},
     "outputs": [
      {
       "output_type": "stream",
       "stream": "stdout",
       "text": [
        "\n"
       ]
      },
      {
       "metadata": {},
       "output_type": "pyout",
       "prompt_number": 10,
       "text": [
        "'/home/paul/asem51/own_programs/photo_encoder.hex'"
       ]
      }
     ],
     "prompt_number": 10
    }
   ],
   "metadata": {}
  }
 ]
}