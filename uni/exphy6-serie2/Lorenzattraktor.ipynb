{
 "cells": [
  {
   "cell_type": "code",
   "execution_count": 1,
   "metadata": {
    "collapsed": false
   },
   "outputs": [],
   "source": [
    "import random\n",
    "random.seed(42)\n",
    "\n",
    "from collections import namedtuple\n",
    "\n",
    "import matplotlib.pyplot as plt\n",
    "from matplotlib import animation\n",
    "from mpl_toolkits.mplot3d import Axes3D\n",
    "\n",
    "import numpy as np\n",
    "\n",
    "from jim import Vector, with_state, Universe, exhaust"
   ]
  },
  {
   "cell_type": "code",
   "execution_count": 2,
   "metadata": {
    "collapsed": false
   },
   "outputs": [],
   "source": [
    "class AttractorUniverse(Universe):\n",
    "    def __init__(self, a, b, c):\n",
    "        super().__init__(Vector.null_vector(3))\n",
    "        self.params = a, b, c\n",
    "    \n",
    "    def add(self, body):\n",
    "        super().add(body)\n",
    "        body.attractor = self"
   ]
  },
  {
   "cell_type": "code",
   "execution_count": 3,
   "metadata": {
    "collapsed": false
   },
   "outputs": [],
   "source": [
    "@with_state\n",
    "class LorenzBody:\n",
    "    State = namedtuple(\"LorenzBodyState\", \"r, v\")\n",
    "    \n",
    "    def __init__(self, r):\n",
    "        self.r = r\n",
    "        self.attractor = None\n",
    "        \n",
    "    def move(self, dt):\n",
    "        self.r += self.v * dt\n",
    "        \n",
    "    @property\n",
    "    def v(self):\n",
    "        a, b, c = self.attractor.params\n",
    "        x, y, z = self.r\n",
    "        return Vector(\n",
    "            a * (y - x),\n",
    "            x * (b - z) - y,\n",
    "            x * y - c * z\n",
    "        )"
   ]
  },
  {
   "cell_type": "code",
   "execution_count": 4,
   "metadata": {
    "collapsed": true
   },
   "outputs": [],
   "source": [
    "n_bodies = 8"
   ]
  },
  {
   "cell_type": "code",
   "execution_count": 5,
   "metadata": {
    "collapsed": false
   },
   "outputs": [],
   "source": [
    "bodies = [\n",
    "    LorenzBody(Vector.random(3, limit=20))\n",
    "    for _ in range(n_bodies)\n",
    "]"
   ]
  },
  {
   "cell_type": "code",
   "execution_count": 6,
   "metadata": {
    "collapsed": false
   },
   "outputs": [],
   "source": [
    "attractor = AttractorUniverse(10, 28, 8/3)\n",
    "attractor.add_all(bodies)"
   ]
  },
  {
   "cell_type": "markdown",
   "metadata": {},
   "source": [
    "----"
   ]
  },
  {
   "cell_type": "code",
   "execution_count": 7,
   "metadata": {
    "collapsed": true
   },
   "outputs": [],
   "source": [
    "dt = 1. / 100\n",
    "frames = 1800"
   ]
  },
  {
   "cell_type": "code",
   "execution_count": 8,
   "metadata": {
    "collapsed": false
   },
   "outputs": [],
   "source": [
    "states = list(attractor.simulate_shortstep(frames * dt + dt, dt))"
   ]
  },
  {
   "cell_type": "code",
   "execution_count": 9,
   "metadata": {
    "collapsed": false,
    "scrolled": false
   },
   "outputs": [
    {
     "data": {
      "text/plain": [
       "<matplotlib.text.Text at 0x7ff47c0b14e0>"
      ]
     },
     "execution_count": 9,
     "metadata": {},
     "output_type": "execute_result"
    }
   ],
   "source": [
    "fig = plt.figure(figsize=(12.80, 7.20))\n",
    "fig.subplots_adjust(left=0, right=1, bottom=0, top=1)\n",
    "ax = fig.add_subplot(\n",
    "    111,\n",
    "    aspect=\"equal\",\n",
    "    autoscale_on=False,\n",
    "    projection=\"3d\",\n",
    ")\n",
    "ax.grid()\n",
    "\n",
    "axlim = 50\n",
    "\n",
    "ax.set_xlim3d(-axlim, axlim)\n",
    "ax.set_ylim3d(-axlim, axlim)\n",
    "ax.set_zlim3d(-axlim, axlim)\n",
    "ax.set_xlabel(\"$x$\")\n",
    "ax.set_ylabel(\"$y$\")\n",
    "ax.set_zlabel(\"$z$\")"
   ]
  },
  {
   "cell_type": "markdown",
   "metadata": {},
   "source": [
    "Ein roter Punkt im Ursprung zur Orientierung:"
   ]
  },
  {
   "cell_type": "code",
   "execution_count": 10,
   "metadata": {
    "collapsed": false
   },
   "outputs": [],
   "source": [
    "ax.scatter([0], [0], c=\"red\");"
   ]
  },
  {
   "cell_type": "code",
   "execution_count": 11,
   "metadata": {
    "collapsed": false
   },
   "outputs": [],
   "source": [
    "particles, = ax.plot([], [], 'o', ms=2)\n",
    "traces = [\n",
    "    ax.plot([], [], \"-\")[0]\n",
    "    for _ in range(n_bodies)\n",
    "]"
   ]
  },
  {
   "cell_type": "code",
   "execution_count": 12,
   "metadata": {
    "collapsed": false
   },
   "outputs": [],
   "source": [
    "def init():\n",
    "    particles.set_data([], [])\n",
    "    particles.set_3d_properties([])\n",
    "    for trace in traces:\n",
    "        trace.set_data([], [])\n",
    "        trace.set_3d_properties([])\n",
    "    \n",
    "    return (particles, *traces)"
   ]
  },
  {
   "cell_type": "code",
   "execution_count": 13,
   "metadata": {
    "collapsed": true
   },
   "outputs": [],
   "source": [
    "def animate(i):\n",
    "    state = states[i]\n",
    "    \n",
    "    particles.set_data(\n",
    "        [s.r[0] for s in state],\n",
    "        [s.r[1] for s in state]\n",
    "    )\n",
    "    particles.set_3d_properties(\n",
    "        [s.r[2] for s in state]\n",
    "    )\n",
    "    \n",
    "    for n, trace in enumerate(traces):\n",
    "        trace.set_data(\n",
    "            [state[n].r[0] for state in states[:i + 1]],\n",
    "            [state[n].r[1] for state in states[:i + 1]]\n",
    "        )\n",
    "        trace.set_3d_properties(\n",
    "            [state[n].r[2] for state in states[:i + 1]]\n",
    "        )\n",
    "    \n",
    "    return (particles, *traces)"
   ]
  },
  {
   "cell_type": "code",
   "execution_count": 14,
   "metadata": {
    "collapsed": true
   },
   "outputs": [],
   "source": [
    "def animate_with_rotation(i):\n",
    "    ret = animate(i)\n",
    "    ax.view_init(i * 360 / 900 - 90, i)\n",
    "    return ret"
   ]
  },
  {
   "cell_type": "code",
   "execution_count": 15,
   "metadata": {
    "collapsed": false
   },
   "outputs": [],
   "source": [
    "ani = animation.FuncAnimation(\n",
    "    fig,\n",
    "    animate,\n",
    "    frames=frames,\n",
    "    interval=30,\n",
    "    blit=False,\n",
    "    init_func=init\n",
    ")"
   ]
  },
  {
   "cell_type": "code",
   "execution_count": 16,
   "metadata": {
    "collapsed": true
   },
   "outputs": [],
   "source": [
    "plt.show()"
   ]
  },
  {
   "cell_type": "code",
   "execution_count": 17,
   "metadata": {
    "collapsed": false,
    "scrolled": true
   },
   "outputs": [],
   "source": [
    "# save the animation as an mp4.\n",
    "#ani.save('lorenz_attractor_rotating.mp4', fps=30, extra_args=['-vcodec', 'libx264'])"
   ]
  }
 ],
 "metadata": {
  "kernelspec": {
   "display_name": "Python 3",
   "language": "python",
   "name": "python3"
  },
  "language_info": {
   "codemirror_mode": {
    "name": "ipython",
    "version": 3
   },
   "file_extension": ".py",
   "mimetype": "text/x-python",
   "name": "python",
   "nbconvert_exporter": "python",
   "pygments_lexer": "ipython3",
   "version": "3.5.1"
  }
 },
 "nbformat": 4,
 "nbformat_minor": 0
}
