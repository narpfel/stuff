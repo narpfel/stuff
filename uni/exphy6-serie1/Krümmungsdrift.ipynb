{
 "cells": [
  {
   "cell_type": "code",
   "execution_count": 1,
   "metadata": {
    "collapsed": false
   },
   "outputs": [],
   "source": [
    "%load_ext autodisplay\n",
    "_autodisplay.display_line = False\n",
    "\n",
    "import random\n",
    "random.seed(8)\n",
    "\n",
    "from functools import partial\n",
    "\n",
    "import matplotlib.pyplot as plt\n",
    "from matplotlib import animation\n",
    "from mpl_toolkits.mplot3d import Axes3D\n",
    "\n",
    "from jim import Vector, Body, Universe, transpose_states, lorentz_force, implement_field"
   ]
  },
  {
   "cell_type": "code",
   "execution_count": 2,
   "metadata": {
    "collapsed": true
   },
   "outputs": [],
   "source": [
    "def circular_field(r):\n",
    "    return Vector(0, 0, 1) @ (r - r[2] * Vector(0, 0, 1)).unit"
   ]
  },
  {
   "cell_type": "code",
   "execution_count": 3,
   "metadata": {
    "collapsed": false
   },
   "outputs": [
    {
     "data": {
      "text/plain": [
       "Vector(0.0, 1.0, 0.0)"
      ]
     },
     "execution_count": 3,
     "metadata": {},
     "output_type": "execute_result"
    }
   ],
   "source": [
    "circular_field(Vector(1, 0, 0))"
   ]
  },
  {
   "cell_type": "code",
   "execution_count": 4,
   "metadata": {
    "collapsed": false
   },
   "outputs": [],
   "source": [
    "body = Body(Vector(5, 0, 0), Vector(0, 2, 0), None, 1)\n",
    "body.q = 2"
   ]
  },
  {
   "cell_type": "code",
   "execution_count": 5,
   "metadata": {
    "collapsed": false
   },
   "outputs": [],
   "source": [
    "universe = Universe(Vector(0, 0, 0))\n",
    "universe.add(body)\n",
    "implement_field(\n",
    "    universe,\n",
    "    partial(lorentz_force, field=lambda r: (Vector.null_vector(3), circular_field(r)))\n",
    ")"
   ]
  },
  {
   "cell_type": "markdown",
   "metadata": {},
   "source": [
    "----"
   ]
  },
  {
   "cell_type": "code",
   "execution_count": 6,
   "metadata": {
    "collapsed": true
   },
   "outputs": [],
   "source": [
    "dt = 1. / 30\n",
    "frames = 1800"
   ]
  },
  {
   "cell_type": "code",
   "execution_count": 7,
   "metadata": {
    "collapsed": false
   },
   "outputs": [
    {
     "data": {
      "text/plain": [
       "<matplotlib.text.Text at 0x7f75d8038940>"
      ]
     },
     "execution_count": 7,
     "metadata": {},
     "output_type": "execute_result"
    }
   ],
   "source": [
    "# set up figure and animation\n",
    "fig = plt.figure(figsize=(12.80, 7.20))\n",
    "fig.subplots_adjust(left=0, right=1, bottom=0, top=1)\n",
    "ax = fig.add_subplot(\n",
    "    121,\n",
    "    aspect=\"equal\",\n",
    "    autoscale_on=False,\n",
    "    projection=\"3d\",\n",
    ")\n",
    "ax.grid()\n",
    "\n",
    "ax.set_xlim3d(-15, 15)\n",
    "ax.set_ylim3d(-15, 15)\n",
    "ax.set_zlim3d(-15, 15)\n",
    "ax.set_xlabel(\"$x$\")\n",
    "ax.set_ylabel(\"$y$\")\n",
    "ax.set_zlabel(\"$z$\")\n",
    "\n",
    "ax2d = fig.add_subplot(\n",
    "    122,\n",
    "    aspect=\"equal\",\n",
    ")\n",
    "ax2d.grid()\n",
    "ax2d.set_xlim(0, 20)\n",
    "ax2d.set_ylim(-3, 3)\n",
    "ax2d.set_xlabel(r\"$\\frac{t}{s}$\")\n",
    "ax2d.set_ylabel(r\"$\\frac{v}{\\frac{m}{s}}$\")"
   ]
  },
  {
   "cell_type": "markdown",
   "metadata": {},
   "source": [
    "Ein roter Punkt im Ursprung zur Orientierung:"
   ]
  },
  {
   "cell_type": "code",
   "execution_count": 8,
   "metadata": {
    "collapsed": false
   },
   "outputs": [],
   "source": [
    "ax.scatter([0], [0], c=\"red\");"
   ]
  },
  {
   "cell_type": "code",
   "execution_count": 9,
   "metadata": {
    "collapsed": false
   },
   "outputs": [],
   "source": [
    "# particle holds the location of the particle\n",
    "particle, = ax.plot([], [], 'bo', ms=10)\n",
    "trace, = ax.plot([], [], \"-\")\n",
    "trace_data = [[] for _ in range(3)]\n",
    "\n",
    "v_traces = [\n",
    "    ax2d.plot([], [], label=\"$v_{}$\".format(label))[0]\n",
    "    for label in \"xyz\"\n",
    "]\n",
    "v_data = [[] for _ in range(3)]\n",
    "\n",
    "v_norm, = ax2d.plot([], [], label=r\"$|\\vec v|$\")\n",
    "v_norm_data = []\n",
    "\n",
    "time_data = []"
   ]
  },
  {
   "cell_type": "code",
   "execution_count": 10,
   "metadata": {
    "collapsed": false
   },
   "outputs": [],
   "source": [
    "def init():\n",
    "    \"\"\"initialize animation\"\"\"\n",
    "    particle.set_data([], [])\n",
    "    particle.set_3d_properties([])\n",
    "    trace.set_data([], [])\n",
    "    trace.set_3d_properties([])\n",
    "    \n",
    "    for v_trace in v_traces:\n",
    "        v_trace.set_data([], [])\n",
    "    \n",
    "    v_norm.set_data([], [])\n",
    "    \n",
    "    return (particle, trace, *v_traces, v_norm)"
   ]
  },
  {
   "cell_type": "code",
   "execution_count": 11,
   "metadata": {
    "collapsed": true
   },
   "outputs": [],
   "source": [
    "def exhaust(iterator):\n",
    "    for _ in iterator:\n",
    "        pass"
   ]
  },
  {
   "cell_type": "code",
   "execution_count": 12,
   "metadata": {
    "collapsed": true
   },
   "outputs": [],
   "source": [
    "def animate(i):\n",
    "    \"\"\"perform animation step\"\"\"\n",
    "    exhaust(universe.simulate(dt, 0.0005))\n",
    "    time_data.append(universe.time)\n",
    "    state = universe.state()[0]\n",
    "    x, y, z = state.r\n",
    "    \n",
    "    v_norm_data.append(state.v.norm)\n",
    "    \n",
    "    particle.set_data(x, y)\n",
    "    particle.set_3d_properties(z)\n",
    "    \n",
    "    for coord, coord_trace in zip(state.r, trace_data):\n",
    "        coord_trace.append(coord)\n",
    "    \n",
    "    trace.set_data(*trace_data[:2])\n",
    "    trace.set_3d_properties(trace_data[2])\n",
    "    \n",
    "    for v_coord, v_trace_data, v_trace in zip(state.v, v_data, v_traces):\n",
    "        v_trace_data.append(v_coord)\n",
    "        v_trace.set_data(time_data, v_trace_data)\n",
    "    \n",
    "    v_norm.set_data(time_data, v_norm_data)\n",
    "\n",
    "    if not i % 10:\n",
    "        field = circular_field(state.r)\n",
    "        particle.set_label(r\"$\\vec B(\\vec r) = ({:.2f}, {:.2f}, {:.2f})$\".format(*field))\n",
    "        ax.legend(loc=1)\n",
    "        ax2d.legend(loc=1)\n",
    "    \n",
    "    if universe.time > 15:\n",
    "        ax2d.set_xlim(universe.time - 15, universe.time + 5)\n",
    "    \n",
    "    return (particle, trace, *v_traces, v_norm)"
   ]
  },
  {
   "cell_type": "code",
   "execution_count": 13,
   "metadata": {
    "collapsed": true
   },
   "outputs": [],
   "source": [
    "ani = animation.FuncAnimation(\n",
    "    fig,\n",
    "    animate,\n",
    "    frames=frames,\n",
    "    interval=10,\n",
    "    blit=True,\n",
    "    init_func=init\n",
    ")"
   ]
  },
  {
   "cell_type": "code",
   "execution_count": 14,
   "metadata": {
    "collapsed": false,
    "scrolled": true
   },
   "outputs": [],
   "source": [
    "# save the animation as an mp4.\n",
    "ani.save('curvature_drift.mp4', fps=30, extra_args=['-vcodec', 'libx264'])"
   ]
  },
  {
   "cell_type": "code",
   "execution_count": 15,
   "metadata": {
    "collapsed": false
   },
   "outputs": [],
   "source": [
    "# Uncomment to see a live and interactive view of the system.\n",
    "#plt.show()"
   ]
  },
  {
   "cell_type": "markdown",
   "metadata": {},
   "source": [
    "$v_R$ bezeichne die mittlere Driftgeschwindigkeit des Führungszentrums, die durch Krümmungsdrift hervorgerufen wird."
   ]
  },
  {
   "cell_type": "code",
   "execution_count": 16,
   "metadata": {
    "collapsed": false
   },
   "outputs": [
    {
     "name": "stdout",
     "output_type": "stream",
     "text": [
      "`v_R_simulated` at line 1:\n"
     ]
    },
    {
     "data": {
      "text/plain": [
       "0.36420747519602453"
      ]
     },
     "metadata": {},
     "output_type": "display_data"
    }
   ],
   "source": [
    "v_R_simulated >>= body.r[2] / universe.time"
   ]
  },
  {
   "cell_type": "code",
   "execution_count": 17,
   "metadata": {
    "collapsed": false
   },
   "outputs": [
    {
     "name": "stdout",
     "output_type": "stream",
     "text": [
      "`v_R_expected` at line 1:\n"
     ]
    },
    {
     "data": {
      "text/plain": [
       "0.3942310945510432"
      ]
     },
     "metadata": {},
     "output_type": "display_data"
    }
   ],
   "source": [
    "v_R_expected >>= body.m / body.q * (body.v * circular_field(body.r))**2 / 5"
   ]
  },
  {
   "cell_type": "markdown",
   "metadata": {},
   "source": [
    "Ist die Abweichung zwischen `v_R_simulated` und `v_R_expected` auf die Simulation zurückzuführen? "
   ]
  },
  {
   "cell_type": "code",
   "execution_count": 18,
   "metadata": {
    "collapsed": false
   },
   "outputs": [
    {
     "data": {
      "text/plain": [
       "[0.5582132223830619,\n",
       " 0.5350865073769898,\n",
       " 0.5111270430032246,\n",
       " 0.48644940518880075,\n",
       " 0.4611717116318749,\n",
       " 0.435415065701715,\n",
       " 0.40930298438844753,\n",
       " 0.3829608128286939,\n",
       " 0.3565151280245391,\n",
       " 0.3300931344568664,\n",
       " 0.30382205436929943,\n",
       " 0.277828515565007,\n",
       " 0.25223793961459173,\n",
       " 0.22717393341821576,\n",
       " 0.20275768709794775,\n",
       " 0.1791073812159408,\n",
       " 0.15633760631925717,\n",
       " 0.13455879780174973,\n",
       " 0.11387668904618393,\n",
       " 0.09439178576458147]"
      ]
     },
     "execution_count": 18,
     "metadata": {},
     "output_type": "execute_result"
    }
   ],
   "source": [
    "v_data[2][-20:]"
   ]
  },
  {
   "cell_type": "markdown",
   "metadata": {},
   "source": [
    "Es wurde *fast* eine ganze Anzahl an Perioden simuliert, daher kann in guter Näherung über alle `v_data[2]` (enspricht $\\frac{\\Delta r_z}{\\Delta t}$) gemittelt werden und es muss nicht die letzte (unvollständige) Periode ignoriert werden."
   ]
  }
 ],
 "metadata": {
  "kernelspec": {
   "display_name": "Python 3",
   "language": "python",
   "name": "python3"
  },
  "language_info": {
   "codemirror_mode": {
    "name": "ipython",
    "version": 3
   },
   "file_extension": ".py",
   "mimetype": "text/x-python",
   "name": "python",
   "nbconvert_exporter": "python",
   "pygments_lexer": "ipython3",
   "version": "3.5.1"
  }
 },
 "nbformat": 4,
 "nbformat_minor": 0
}
